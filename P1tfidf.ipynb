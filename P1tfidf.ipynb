{
 "cells": [
  {
   "cell_type": "code",
   "execution_count": 1,
   "metadata": {},
   "outputs": [],
   "source": [
    "import findspark\n",
    "findspark.init()\n",
    "import pyspark\n",
    "from operator import add, itemgetter\n",
    "import json\n",
    "from string import punctuation\n",
    "import math\n",
    "from pyspark.conf import SparkConf\n",
    "from string import punctuation\n",
    "#from nltk.stem import LancasterStemmer"
   ]
  },
  {
   "cell_type": "markdown",
   "metadata": {},
   "source": [
    "# Calculating count of words in all docs combined"
   ]
  },
  {
   "cell_type": "code",
   "execution_count": 2,
   "metadata": {},
   "outputs": [],
   "source": [
    "sc = pyspark.SparkContext('local[*]',appName=\"DocClassification\")"
   ]
  },
  {
   "cell_type": "code",
   "execution_count": 3,
   "metadata": {},
   "outputs": [],
   "source": [
    "documents = sc.textFile(\"/home/vyom/UGA/DSP/Project1/X_train_large.txt\")"
   ]
  },
  {
   "cell_type": "code",
   "execution_count": 4,
   "metadata": {},
   "outputs": [],
   "source": [
    "labels = sc.textFile(\"/home/vyom/UGA/DSP/Project1/y_train_small.txt\")"
   ]
  },
  {
   "cell_type": "code",
   "execution_count": 6,
   "metadata": {},
   "outputs": [],
   "source": [
    "splt = documents.flatMap(lambda word: word.split())\n",
    "splt = splt.map(lambda word: word.lower())\n",
    "\n",
    "#Removing Punctuation\n",
    "splt = splt.map(lambda word: word.replace(\"&quot;\",\"\"))\n",
    "splt = splt.map(lambda word: word.replace(\"&amp;\",\"\"))\n",
    "cleanWords = splt.map(lambda word: word.strip(punctuation))\n",
    "cleanWords = cleanWords.filter(lambda word:len(word)>2)\n",
    "\n",
    "#Removing StopWord\n",
    "stopWordFile = sc.textFile(\"stopwords.txt\")\n",
    "stopWord = sc.broadcast(stopWordFile.collect())\n",
    "lessWords = cleanWords.filter(lambda x: x not in stopWord.value)"
   ]
  },
  {
   "cell_type": "code",
   "execution_count": 7,
   "metadata": {},
   "outputs": [],
   "source": [
    "word = cleanWords.map(lambda word : (word,1))"
   ]
  },
  {
   "cell_type": "code",
   "execution_count": 8,
   "metadata": {},
   "outputs": [],
   "source": [
    "CountinAllDocs = word.reduceByKey(add)"
   ]
  },
  {
   "cell_type": "code",
   "execution_count": 9,
   "metadata": {},
   "outputs": [],
   "source": [
    "CountinAllDocs = CountinAllDocs.sortBy(lambda x: x[1],False)"
   ]
  },
  {
   "cell_type": "code",
   "execution_count": 10,
   "metadata": {},
   "outputs": [],
   "source": [
    "numWords = sc.broadcast(CountinAllDocs.count())\n",
    "numDocs = sc.broadcast(documents.count())\n",
    "wordList = sc.broadcast(CountinAllDocs.keys().collect())"
   ]
  },
  {
   "cell_type": "raw",
   "metadata": {},
   "source": [
    "X= []\n",
    "Y= []\n",
    "for k,v in CountinAllDocs.collectAsMap().items():\n",
    "    X.append(k)\n",
    "    Y.append(v)"
   ]
  },
  {
   "cell_type": "raw",
   "metadata": {},
   "source": [
    "plt.bar(X,Y)\n",
    "plt.xlabel(\"Count\")\n",
    "plt.ylabel(\"Word\")\n",
    "plt.show()."
   ]
  },
  {
   "cell_type": "markdown",
   "metadata": {},
   "source": [
    "# Calculating term frequency in each doc"
   ]
  },
  {
   "cell_type": "code",
   "execution_count": 11,
   "metadata": {},
   "outputs": [],
   "source": [
    "def stripWord(x):\n",
    "    tempList =[]\n",
    "    for word in x:\n",
    "        word = word.lower()\n",
    "        word = word.replace(\"&quot\",\"\")\n",
    "        word = word.replace(\"&amp\",\"\")\n",
    "        word = word.strip(punctuation)\n",
    "        if len(word)>2:\n",
    "            tempList.append(word)\n",
    "    return tempList"
   ]
  },
  {
   "cell_type": "code",
   "execution_count": 12,
   "metadata": {},
   "outputs": [],
   "source": [
    "def stripStopWord(x):\n",
    "    tempList =[]\n",
    "    for word in x:\n",
    "        if word not in stopWord.value:\n",
    "            tempList.append(word)\n",
    "    return tempList"
   ]
  },
  {
   "cell_type": "code",
   "execution_count": 13,
   "metadata": {},
   "outputs": [],
   "source": [
    "def countWord(x):\n",
    "    dictionary={}\n",
    "    for word in x:\n",
    "        if word not in dictionary:\n",
    "            dictionary[word] = 1\n",
    "        else:\n",
    "            dictionary[word]+=1\n",
    "    return dictionary"
   ]
  },
  {
   "cell_type": "code",
   "execution_count": 14,
   "metadata": {
    "scrolled": false
   },
   "outputs": [],
   "source": [
    "bagOfWords = documents.map(lambda word: word.split())\n",
    "bagOfWords = bagOfWords.map(lambda x: stripWord(x))\n",
    "#bagOfWords = bagOfWords.map(lambda x: stripStopWord(x))\n",
    "tf = bagOfWords.map(lambda x: countWord(x))"
   ]
  },
  {
   "cell_type": "markdown",
   "metadata": {},
   "source": [
    "# Calculating idf"
   ]
  },
  {
   "cell_type": "code",
   "execution_count": 15,
   "metadata": {},
   "outputs": [],
   "source": [
    "def uniques(x):\n",
    "    tempList=[]\n",
    "    for word in x:\n",
    "        if word not in tempList:\n",
    "            tempList.append(word);\n",
    "    return tempList"
   ]
  },
  {
   "cell_type": "code",
   "execution_count": 16,
   "metadata": {},
   "outputs": [],
   "source": [
    "uniqueList = tf.map(lambda x: uniques(x))"
   ]
  },
  {
   "cell_type": "code",
   "execution_count": 17,
   "metadata": {},
   "outputs": [],
   "source": [
    "def initializeMap(x):\n",
    "    tempList = []\n",
    "    for word in x:\n",
    "        tempList.append((word,1))\n",
    "    return tempList"
   ]
  },
  {
   "cell_type": "code",
   "execution_count": 18,
   "metadata": {},
   "outputs": [],
   "source": [
    "occurences = uniqueList.map(lambda x: initializeMap(x)).flatMap(lambda x: x).reduceByKey(add)"
   ]
  },
  {
   "cell_type": "code",
   "execution_count": 19,
   "metadata": {},
   "outputs": [],
   "source": [
    "idf = occurences.map(lambda x: (x[0],math.log(numDocs.value/float(x[1]))))"
   ]
  },
  {
   "cell_type": "code",
   "execution_count": 20,
   "metadata": {},
   "outputs": [],
   "source": [
    "idf2 = sc.broadcast(idf.collectAsMap())"
   ]
  },
  {
   "cell_type": "markdown",
   "metadata": {},
   "source": [
    "# Calculating Tf-idf"
   ]
  },
  {
   "cell_type": "code",
   "execution_count": 21,
   "metadata": {},
   "outputs": [],
   "source": [
    "def getTfidf(x):\n",
    "    tempDict={}\n",
    "    idfDict=idf2.value\n",
    "    for k,v in x.items():\n",
    "        tempDict[k] = v*idfDict[k]\n",
    "    return tempDict"
   ]
  },
  {
   "cell_type": "code",
   "execution_count": 22,
   "metadata": {},
   "outputs": [],
   "source": [
    "tfidf = tf.map(lambda x: getTfidf(x) )"
   ]
  },
  {
   "cell_type": "code",
   "execution_count": 23,
   "metadata": {
    "scrolled": false
   },
   "outputs": [],
   "source": [
    "tfidfSorted = tfidf.map(lambda x: sorted(x.items(), key=itemgetter(1), reverse = True))"
   ]
  },
  {
   "cell_type": "markdown",
   "metadata": {},
   "source": [
    "# Implementing Naive Bayes"
   ]
  },
  {
   "cell_type": "markdown",
   "metadata": {},
   "source": [
    "## Calculating word probability"
   ]
  },
  {
   "cell_type": "code",
   "execution_count": 39,
   "metadata": {},
   "outputs": [],
   "source": [
    "spltLabels = labels.map(lambda word: word.split(\",\"))"
   ]
  },
  {
   "cell_type": "code",
   "execution_count": 40,
   "metadata": {},
   "outputs": [],
   "source": [
    "def removeUnnecessary(label):\n",
    "    tempList=[]\n",
    "    for word in label:\n",
    "        if 'CAT' in word:\n",
    "            tempList.append(word)\n",
    "    return tempList"
   ]
  },
  {
   "cell_type": "code",
   "execution_count": 41,
   "metadata": {},
   "outputs": [],
   "source": [
    "requiredLabels = spltLabels.map(lambda label: removeUnnecessary(label))"
   ]
  },
  {
   "cell_type": "code",
   "execution_count": 42,
   "metadata": {},
   "outputs": [],
   "source": [
    "numberOfDocs = sc.broadcast(requiredLabels.flatMap(lambda x: x).count())"
   ]
  },
  {
   "cell_type": "code",
   "execution_count": 43,
   "metadata": {},
   "outputs": [],
   "source": [
    "labelsToUse = sc.broadcast(requiredLabels.collect())"
   ]
  },
  {
   "cell_type": "code",
   "execution_count": 44,
   "metadata": {},
   "outputs": [],
   "source": [
    "def dictToList(x):\n",
    "    tempList=[]\n",
    "    for k, v in x.items():\n",
    "        tempList.append((k,v))\n",
    "    return tempList"
   ]
  },
  {
   "cell_type": "code",
   "execution_count": 45,
   "metadata": {},
   "outputs": [],
   "source": [
    "def getProbDoc(x,v):\n",
    "    tempDict={}\n",
    "    for label in labelsToUse.value[v]:\n",
    "        tempDict[label] = x\n",
    "    return tempDict"
   ]
  },
  {
   "cell_type": "code",
   "execution_count": 56,
   "metadata": {},
   "outputs": [
    {
     "data": {
      "text/plain": [
       "7356"
      ]
     },
     "execution_count": 56,
     "metadata": {},
     "output_type": "execute_result"
    }
   ],
   "source": [
    "ProbDocIndex = tfidfSorted.zipWithIndex()"
   ]
  },
  {
   "cell_type": "code",
   "execution_count": 34,
   "metadata": {},
   "outputs": [],
   "source": [
    "def totalTfidf(x):\n",
    "    total =0\n",
    "    for k,v in x.items():\n",
    "        total = total+v\n",
    "    return total"
   ]
  },
  {
   "cell_type": "code",
   "execution_count": 59,
   "metadata": {},
   "outputs": [],
   "source": [
    "ProbDoc = ProbDocIndex.map(lambda x: getProbDoc(x[0],x[1]))"
   ]
  },
  {
   "cell_type": "code",
   "execution_count": 123,
   "metadata": {},
   "outputs": [
    {
     "data": {
      "text/plain": [
       "[('0830', 32.09182467968106),\n",
       " ('dollar', 19.46545143346878),\n",
       " ('sterling', 18.18625103613848),\n",
       " ('4,433.3', 17.806543171448425),\n",
       " ('poll', 17.482688370283824),\n",
       " ('lyons', 14.587667346580222),\n",
       " ('sheer', 14.587667346580222),\n",
       " ('labour', 14.4198168767047),\n",
       " ('overnight', 14.340606367519982),\n",
       " ('gmt', 13.774016449032825),\n",
       " ('higher', 13.77162576256875),\n",
       " ('early', 13.588222779346147),\n",
       " ('pound', 13.243905647976216),\n",
       " ('index', 12.692604144361503),\n",
       " (\"labour's\", 12.025799655656094),\n",
       " (\"britain's\", 11.949871979688261),\n",
       " ('payrolls', 11.815078624340442),\n",
       " ('11.7', 11.624458264731791),\n",
       " ('stocks', 11.311702218542111),\n",
       " ('radical', 11.142134151098016),\n",
       " ('majority', 10.984573711993708),\n",
       " ('dax', 10.87507136584897),\n",
       " ('though', 10.814862657528526),\n",
       " ('cac-40', 10.813528048515463),\n",
       " ('paris', 10.74078481975741),\n",
       " ('ftse', 9.982497160592132),\n",
       " ('election', 9.959325830827538),\n",
       " ('inflation', 9.826951416100723),\n",
       " ('elsewhere', 9.617854047004222),\n",
       " ('firmed', 9.427233687395573),\n",
       " ('down', 9.415404387061432),\n",
       " ('chancellor', 8.944909573761796),\n",
       " ('yen', 8.905132170313871),\n",
       " ('110-7/16', 8.903271585724212),\n",
       " ('bigger-than-expected', 8.903271585724212),\n",
       " ('convinces', 8.903271585724212),\n",
       " ('654-1/2', 8.903271585724212),\n",
       " ('339.65', 8.903271585724212),\n",
       " ('126.57', 8.903271585724212),\n",
       " ('continue...but', 8.903271585724212),\n",
       " ('thata', 8.903271585724212),\n",
       " ('126.68', 8.903271585724212),\n",
       " ('50-point', 8.903271585724212),\n",
       " ('2,649.59', 8.903271585724212),\n",
       " ('1.6253', 8.903271585724212),\n",
       " ('3,454.80', 8.903271585724212),\n",
       " ('circumspect', 8.903271585724212),\n",
       " ('2,646.05', 8.903271585724212),\n",
       " ('1.6080', 8.903271585724212),\n",
       " ('2,649.90', 8.903271585724212),\n",
       " ('673-1/2', 8.903271585724212),\n",
       " ('1.7220', 8.903271585724212),\n",
       " ('3,454.8', 8.903271585724212),\n",
       " ('europe', 8.819076726317297),\n",
       " ('size', 8.556597544879882),\n",
       " ('policies', 8.423847406990136),\n",
       " ('going', 8.42234106987596),\n",
       " ('frankfurt', 8.231559685884331),\n",
       " ('was', 8.2223774433),\n",
       " ('340.15', 8.210124405164267),\n",
       " ('1.7182', 8.210124405164267),\n",
       " ('14-1/2p', 8.210124405164267),\n",
       " ('16.73', 8.210124405164267),\n",
       " ('stood', 8.149915696843822),\n",
       " ('holiday', 8.08691836272508),\n",
       " ('bit', 8.05614852504612),\n",
       " ('weaker', 7.966581319792174),\n",
       " ('compared', 7.90252590605385),\n",
       " ('emphatic', 7.804659297056102),\n",
       " ('10.13', 7.804659297056102),\n",
       " ('freer', 7.804659297056102),\n",
       " ('cmt', 7.804659297056102),\n",
       " ('late', 7.774610329713891),\n",
       " ('water', 7.7719834978185744),\n",
       " (\"there's\", 7.732637966621165),\n",
       " ('rout', 7.516977224604321),\n",
       " ('savage', 7.516977224604321),\n",
       " (\"pound's\", 7.516977224604321),\n",
       " ('gauging', 7.516977224604321),\n",
       " ('decline', 7.488432573019366),\n",
       " ('jobs', 7.442976070864253),\n",
       " ('post-election', 7.293833673290111),\n",
       " ('defying', 7.293833673290111),\n",
       " (\"frankfurt's\", 7.293833673290111),\n",
       " ('interest-rate', 7.293833673290111),\n",
       " ('opened', 7.281162793638653),\n",
       " ('marks', 7.250313852987389),\n",
       " ('points', 7.224018089361611),\n",
       " ('scrutinised', 7.111512116496157),\n",
       " ('shine', 7.111512116496157),\n",
       " ('pfennig', 7.111512116496157),\n",
       " ('11/32', 7.111512116496157),\n",
       " ('shares', 7.063972593855303),\n",
       " ('once', 7.010217768412918),\n",
       " ('thames', 6.957361436668898),\n",
       " ('dkb', 6.957361436668898),\n",
       " ('nudged', 6.957361436668898),\n",
       " ('should', 6.95129979260861),\n",
       " ('positive', 6.947851913539542),\n",
       " ('close', 6.881767027670493),\n",
       " ('u.s', 6.740378989283217),\n",
       " ('plc', 6.708391001657984),\n",
       " ('gerard', 6.706047008387992),\n",
       " ('perceptions', 6.6006864927301665),\n",
       " ('spur', 6.6006864927301665),\n",
       " (\"sterling's\", 6.6006864927301665),\n",
       " ('certainty', 6.505376312925841),\n",
       " ('slightly', 6.459896637105438),\n",
       " ('the', 6.323822473811882),\n",
       " ('remain', 6.257440080359607),\n",
       " ('trade', 6.236693747043377),\n",
       " ('policy', 6.196273233615447),\n",
       " ('plays', 6.195221384622002),\n",
       " ('1230', 6.195221384622002),\n",
       " ('squeezed', 6.195221384622002),\n",
       " ('drift', 6.130682863484431),\n",
       " ('gilt', 6.130682863484431),\n",
       " ('which', 6.078380235685505),\n",
       " ('windfall', 6.070058241667995),\n",
       " ('were', 6.04701347268748),\n",
       " ('eve', 6.012899827828047),\n",
       " ('currency', 5.963386332160792),\n",
       " ('instance', 5.958832606557771),\n",
       " ('retreated', 5.958832606557771),\n",
       " ('months', 5.924201302678639),\n",
       " ('exporting', 5.907539312170221),\n",
       " (\"they've\", 5.907539312170221),\n",
       " ('figures', 5.894868432518762),\n",
       " ('party', 5.869128051477691),\n",
       " ('argument', 5.8122291323658954),\n",
       " ('british', 5.808670047555058),\n",
       " ('column', 5.767777369795062),\n",
       " ('discounted', 5.725217755376266),\n",
       " ('arguing', 5.725217755376266),\n",
       " ('decisive', 5.725217755376266),\n",
       " ('ranges', 5.684395760856011),\n",
       " ('half', 5.678972754073207),\n",
       " ('until', 5.579178811783961),\n",
       " ('already', 5.552804803220053),\n",
       " ('100', 5.552804803220053),\n",
       " ('ultimately', 5.535975755737738),\n",
       " ('pressing', 5.535975755737738),\n",
       " (\"it's\", 5.535413389284946),\n",
       " ('dealers', 5.488352394464558),\n",
       " ('precious', 5.469284381239065),\n",
       " ('degree', 5.37691106110805),\n",
       " ('nervous', 5.347923524234798),\n",
       " ('with', 5.34116692607921),\n",
       " ('counter', 5.319752647268102),\n",
       " ('meets', 5.292353673079988),\n",
       " ('investors', 5.2873802433185775),\n",
       " ('data', 5.2420096776564105),\n",
       " ('feared', 5.214392131610276),\n",
       " ('that', 5.201273653495665),\n",
       " ('gilts', 5.1656019674408435),\n",
       " ('fell', 5.1578252466858014),\n",
       " ('many', 5.1578252466858014),\n",
       " ('prove', 5.14207147003065),\n",
       " ('wake', 5.14207147003065),\n",
       " (\"party's\", 5.074630189235116),\n",
       " ('analysts', 5.0736022759855475),\n",
       " (\"london's\", 5.053123984014153),\n",
       " ('declines', 5.053123984014153),\n",
       " ('just', 5.042911136636227),\n",
       " ('for', 5.0281787346508695),\n",
       " ('rates', 4.999394775578794),\n",
       " ('pence', 4.971445952999886),\n",
       " ('seats', 4.952027867142784),\n",
       " ('losers', 4.952027867142784),\n",
       " ('proved', 4.952027867142784),\n",
       " ('pressures', 4.914287539159937),\n",
       " ('ounce', 4.895938400491741),\n",
       " ('regarding', 4.877919894989063),\n",
       " ('pick', 4.860220317889661),\n",
       " ('thursday', 4.851239613065489),\n",
       " ('180', 4.842828575177792),\n",
       " ('london', 4.840328468534026),\n",
       " ('utilities', 4.825734141818493),\n",
       " ('markets', 4.816012059574407),\n",
       " ('0.25', 4.7923977215509),\n",
       " ('crucial', 4.77613720067912),\n",
       " ('some', 4.770153595901731),\n",
       " ('sensitive', 4.760136859332679),\n",
       " ('outcome', 4.728884315828575),\n",
       " ('0.4', 4.640591708682896),\n",
       " ('off', 4.639724727130894),\n",
       " ('cited', 4.626605466708156),\n",
       " ('metals', 4.626605466708156),\n",
       " ('rises', 4.626605466708156),\n",
       " ('utility', 4.599206492520042),\n",
       " ('about', 4.59157565795965),\n",
       " ('carrying', 4.5725382454378805),\n",
       " ('rate', 4.54517640016368),\n",
       " ('have', 4.4519568200829145),\n",
       " ('wage', 4.448924289470704),\n",
       " ('currencies', 4.448924289470704),\n",
       " ('attention', 4.437363467069628),\n",
       " ('avoid', 4.437363467069628),\n",
       " ('pretty', 4.4034619153939465),\n",
       " ('0.5', 4.370672092570956),\n",
       " (\"thursday's\", 4.338923394256375),\n",
       " (\"market's\", 4.328560607220829),\n",
       " ('moves', 4.31830410705364),\n",
       " ('damage', 4.308151735589622),\n",
       " (\"we've\", 4.308151735589622),\n",
       " ('immediate', 4.268542597494576),\n",
       " ('prices', 4.267259217743418),\n",
       " ('interest', 4.2376290461731365),\n",
       " ('extended', 4.230442751262306),\n",
       " ('affected', 4.2211403585999925),\n",
       " ('england', 4.184772714429117),\n",
       " ('meanwhile', 4.184772714429117),\n",
       " ('conservative', 4.175883767011871),\n",
       " ('unlikely', 4.158339457360961),\n",
       " (\"wednesday's\", 4.141097650926455),\n",
       " ('hand', 4.141097650926455),\n",
       " ('electricity', 4.124148092612682),\n",
       " ('been', 4.108733627626738),\n",
       " ('review', 4.099250540990955),\n",
       " ('signs', 4.0910872303517944),\n",
       " ('international', 4.0873133641400194),\n",
       " ('victory', 4.0669896787727335),\n",
       " ('create', 3.96879765259352),\n",
       " ('economist', 3.9128389989454755),\n",
       " ('talk', 3.8859917489092872),\n",
       " ('moving', 3.828097770490385),\n",
       " ('may', 3.8186772210020443),\n",
       " ('huge', 3.8156752504918274),\n",
       " ('against', 3.813180195095346),\n",
       " ('got', 3.7793076063209528),\n",
       " ('strength', 3.7793076063209528),\n",
       " ('share', 3.776914468897334),\n",
       " ('known', 3.7733728708011385),\n",
       " ('limited', 3.7271218531503827),\n",
       " ('could', 3.6787352485042866),\n",
       " ('across', 3.6775249120110103),\n",
       " ('focus', 3.6405813968193264),\n",
       " ('win', 3.630272027160465),\n",
       " ('weekend', 3.630272027160465),\n",
       " ('ruling', 3.620067856986223),\n",
       " ('boost', 3.604954219176175),\n",
       " ('drop', 3.5753954169346307),\n",
       " ('new', 3.5684609073763705),\n",
       " ('impact', 3.556164055006743),\n",
       " ('gold', 3.546685311052199),\n",
       " ('government', 3.467843138107224),\n",
       " ('wall', 3.4608538752024183),\n",
       " ('whose', 3.4479504703665103),\n",
       " ('expected', 3.4101760172445372),\n",
       " ('here', 3.397940049791849),\n",
       " ('losses', 3.3898428395592295),\n",
       " ('bank', 3.389342495528026),\n",
       " ('reserve', 3.3698820969966916),\n",
       " ('street', 3.350312000802594),\n",
       " ('adding', 3.3197752769425124),\n",
       " ('dealer', 3.304849626725837),\n",
       " ('coming', 3.293799790539252),\n",
       " ('conditions', 3.2865004880576403),\n",
       " ('term', 3.2684819825549623),\n",
       " ('newspaper', 3.2542973475630057),\n",
       " ('percent', 3.24488537845269),\n",
       " ('session', 3.2368448976117796),\n",
       " ('result', 3.2230989767071443),\n",
       " ('monetary', 3.21969181838553),\n",
       " ('yet', 3.209539446921512),\n",
       " ('pressure', 3.202828012333525),\n",
       " ('biggest', 3.1895387802148427),\n",
       " ('mark', 3.179686483771831),\n",
       " ('house', 3.169930308826466),\n",
       " ('again', 3.16669928824502),\n",
       " ('came', 3.1349505899304395),\n",
       " ('times', 3.1318304625941957),\n",
       " ('must', 3.125619262501555),\n",
       " ('and', 3.1164834736468827),\n",
       " ('line', 3.092130592747511),\n",
       " ('taken', 3.092130592747511),\n",
       " ('near', 3.0891410538991453),\n",
       " ('but', 3.053827039353063),\n",
       " ('might', 3.0481996635217845),\n",
       " ('has', 3.011241341076042),\n",
       " ('planned', 3.000638252322845),\n",
       " ('fall', 2.9897685800859417),\n",
       " ('give', 2.981693166080396),\n",
       " ('little', 2.9631003330037804),\n",
       " ('less', 2.9578509771176367),\n",
       " ('record', 2.9500282514364273),\n",
       " ('loss', 2.9320097459337493),\n",
       " ('federal', 2.906819497105191),\n",
       " ('although', 2.8993845186176723),\n",
       " ('top', 2.896918426122479),\n",
       " ('far', 2.896918426122479),\n",
       " ('even', 2.8822482363746853),\n",
       " ('banks', 2.8749930654935136),\n",
       " ('future', 2.8701853639254105),\n",
       " ('despite', 2.867790153199455),\n",
       " ('among', 2.844148390142415),\n",
       " ('get', 2.830227051623807),\n",
       " ('put', 2.830227051623807),\n",
       " ('long', 2.8279255546355277),\n",
       " ('then', 2.816496858811905),\n",
       " ('tax', 2.816496858811905),\n",
       " ('few', 2.814226710277366),\n",
       " ('held', 2.8119617036465137),\n",
       " ('market', 2.797760053125946),\n",
       " ('power', 2.7962486979819574),\n",
       " ('however', 2.7962486979819574),\n",
       " ('april', 2.729485481822275),\n",
       " ('ahead', 2.72118667900758),\n",
       " ('also', 2.6884666605616565),\n",
       " ('earnings', 2.666901995520507),\n",
       " ('recent', 2.6591046850604756),\n",
       " ('leading', 2.6591046850604756),\n",
       " ('traders', 2.657164820242649),\n",
       " ('securities', 2.6285095644822727),\n",
       " ('report', 2.6247501615583673),\n",
       " ('finance', 2.6210048388282052),\n",
       " ('see', 2.6024857910609676),\n",
       " ('firm', 2.5933533074976953),\n",
       " ('rise', 2.5489015449268613),\n",
       " ('strong', 2.5471639250283205),\n",
       " ('make', 2.529951796147199),\n",
       " ('such', 2.528246765896115),\n",
       " ('meeting', 2.5113544723316097),\n",
       " ('much', 2.5080099876087623),\n",
       " ('chief', 2.506341930508065),\n",
       " ('major', 2.4767831282665207),\n",
       " ('after', 2.4104848309028135),\n",
       " ('economic', 2.404989436247778),\n",
       " ('european', 2.3826504581655157),\n",
       " ('united', 2.3797092795746995),\n",
       " ('general', 2.3738527474619864),\n",
       " ('further', 2.3622415865343087),\n",
       " ('during', 2.3240203737141107),\n",
       " ('set', 2.3074910717629002),\n",
       " ('central', 2.2845326022069923),\n",
       " ('following', 2.2594818525765397),\n",
       " ('had', 2.2451013992125866),\n",
       " ('day', 2.22492947106988),\n",
       " ('would', 2.2226712575723067),\n",
       " ('still', 2.1903153850471417),\n",
       " ('minister', 2.1686799257512637),\n",
       " ('because', 2.155685058894896),\n",
       " ('due', 2.1233496782519596),\n",
       " ('now', 2.112050122998026),\n",
       " ('under', 2.0778115494689047),\n",
       " ('will', 2.05174879874185),\n",
       " ('said', 2.0277453001516133),\n",
       " ('years', 2.0259755142267832),\n",
       " ('between', 2.0035484784393387),\n",
       " ('while', 1.9915242854725372),\n",
       " ('next', 1.9582205219983777),\n",
       " ('his', 1.9486327208432244),\n",
       " ('when', 1.8812951626520518),\n",
       " ('week', 1.8445134332055473),\n",
       " ('friday', 1.8015956141047682),\n",
       " ('out', 1.7731730755986341),\n",
       " ('first', 1.5669859257029142),\n",
       " ('than', 1.5611398551394902),\n",
       " ('more', 1.4850907629974237),\n",
       " ('they', 1.4387617510876842),\n",
       " ('one', 1.318498508112013),\n",
       " ('year', 1.1713408637757252),\n",
       " ('this', 1.147076241776094),\n",
       " ('not', 1.0457907987816821),\n",
       " ('are', 1.0243586734270795),\n",
       " ('from', 0.6529126342469171)]"
      ]
     },
     "execution_count": 123,
     "metadata": {},
     "output_type": "execute_result"
    }
   ],
   "source": [
    "ProbDocIndex.collect()[0][0]"
   ]
  },
  {
   "cell_type": "code",
   "execution_count": 66,
   "metadata": {
    "scrolled": false
   },
   "outputs": [],
   "source": [
    "ProbDocList= ProbDoc.map(lambda x : dictToList(x))"
   ]
  },
  {
   "cell_type": "code",
   "execution_count": 67,
   "metadata": {},
   "outputs": [],
   "source": [
    "def tfidfListToDict(x):\n",
    "    tempDict={}\n",
    "    for word in x:\n",
    "        tempDict[word[0]] = word[1]\n",
    "    return tempDict"
   ]
  },
  {
   "cell_type": "code",
   "execution_count": 68,
   "metadata": {},
   "outputs": [],
   "source": [
    "ProbDocList = ProbDocList.flatMap(lambda x: x).reduceByKey(add)\n",
    "ProbDocDict= ProbDocList.map(lambda x: (x[0],tfidfListToDict(x[1])))"
   ]
  },
  {
   "cell_type": "code",
   "execution_count": 97,
   "metadata": {},
   "outputs": [],
   "source": [
    "ProbDocDictSorted = ProbDocDict.map(lambda x: (x[0],sorted(x[1].items(), key=itemgetter(1), reverse = False)))"
   ]
  },
  {
   "cell_type": "markdown",
   "metadata": {},
   "source": [
    "# Above Code for class wise tfidf and stopwords"
   ]
  },
  {
   "cell_type": "code",
   "execution_count": 99,
   "metadata": {},
   "outputs": [],
   "source": [
    "def getOurStopwords(x):\n",
    "    tempList=[]\n",
    "    for word in x:\n",
    "        if(word[1]<3.0):\n",
    "            tempList.append(word[0])\n",
    "    return tempList"
   ]
  },
  {
   "cell_type": "code",
   "execution_count": 100,
   "metadata": {},
   "outputs": [],
   "source": [
    "ourStopwords = ProbDocDictSorted.map(lambda x: getOurStopwords(x[1]))"
   ]
  },
  {
   "cell_type": "code",
   "execution_count": 111,
   "metadata": {
    "scrolled": true
   },
   "outputs": [],
   "source": [
    "toDownload = ourStopwords.flatMap(lambda x: x).distinct()"
   ]
  },
  {
   "cell_type": "code",
   "execution_count": 118,
   "metadata": {},
   "outputs": [],
   "source": [
    "rd = toDownload.collect()"
   ]
  },
  {
   "cell_type": "code",
   "execution_count": 117,
   "metadata": {},
   "outputs": [],
   "source": [
    "result = open('ourStopwords.txt', 'w')\n",
    "for td in rd:\n",
    "    result.write(\"%s\\n\" % td)"
   ]
  },
  {
   "cell_type": "code",
   "execution_count": 37,
   "metadata": {},
   "outputs": [],
   "source": [
    "labelWC = ProbDocDict.map(lambda x: (x[0],totalTfidf(x[1])))\n",
    "labelWordCount =sc.broadcast(labelWC.collectAsMap())"
   ]
  },
  {
   "cell_type": "code",
   "execution_count": 38,
   "metadata": {},
   "outputs": [],
   "source": [
    "def addAllwords(x):\n",
    "    tempDict=x[1]\n",
    "    for word in wordList.value:\n",
    "        if word not in x[1]:\n",
    "            tempDict[word] = 0\n",
    "    return (x[0],tempDict)"
   ]
  },
  {
   "cell_type": "code",
   "execution_count": 39,
   "metadata": {
    "scrolled": true
   },
   "outputs": [],
   "source": [
    "ProbDocDictAll = ProbDocDict.map(lambda x: addAllwords(x))"
   ]
  },
  {
   "cell_type": "code",
   "execution_count": 40,
   "metadata": {},
   "outputs": [],
   "source": [
    "def getWordProbability(x):\n",
    "    tempDict={}\n",
    "    for k,v in x[1].items():\n",
    "        tempDict[k]= (v+0.1)/float(0.1*numWords.value + labelWordCount.value[x[0]])\n",
    "    return (x[0],tempDict)"
   ]
  },
  {
   "cell_type": "code",
   "execution_count": 41,
   "metadata": {},
   "outputs": [],
   "source": [
    "wordProbability = ProbDocDictAll.map(lambda x: getWordProbability(x))"
   ]
  },
  {
   "cell_type": "code",
   "execution_count": 42,
   "metadata": {},
   "outputs": [],
   "source": [
    "def getLogProb(x):\n",
    "    tempDict= {}\n",
    "    for k,v in x[1].items():\n",
    "        tempDict[k] = math.log(v)\n",
    "    return (x[0],tempDict)"
   ]
  },
  {
   "cell_type": "code",
   "execution_count": 43,
   "metadata": {},
   "outputs": [],
   "source": [
    "logProbability = wordProbability.map(lambda x: getLogProb(x))"
   ]
  },
  {
   "cell_type": "markdown",
   "metadata": {},
   "source": [
    "## Calculating Class Probability"
   ]
  },
  {
   "cell_type": "code",
   "execution_count": 44,
   "metadata": {},
   "outputs": [],
   "source": [
    "classList = requiredLabels.flatMap(lambda x: x)\n",
    "classCount = classList.map(lambda x: (x,1)).reduceByKey(add)"
   ]
  },
  {
   "cell_type": "code",
   "execution_count": 45,
   "metadata": {},
   "outputs": [],
   "source": [
    "classProbability = classCount.map(lambda x: (x[0],math.log(x[1]/float(numberOfDocs.value))))\n",
    "classProb = sc.broadcast(classProbability.collectAsMap())"
   ]
  },
  {
   "cell_type": "markdown",
   "metadata": {},
   "source": [
    "## Testing the probabilities"
   ]
  },
  {
   "cell_type": "code",
   "execution_count": 46,
   "metadata": {},
   "outputs": [
    {
     "name": "stdout",
     "output_type": "stream",
     "text": [
      "1.0000044555281526\n"
     ]
    }
   ],
   "source": [
    "sums=0\n",
    "for k,v in wordProbability.collect()[0][1].items():\n",
    "    sums = sums+v\n",
    "print(sums)"
   ]
  },
  {
   "cell_type": "markdown",
   "metadata": {},
   "source": [
    "#  Prediction"
   ]
  },
  {
   "cell_type": "code",
   "execution_count": 47,
   "metadata": {},
   "outputs": [],
   "source": [
    "testDocuments = sc.textFile(\"/home/vyom/UGA/DSP/Project1/X_test_small.txt\")\n",
    "testLabels = sc.textFile(\"y_test_small.txt\")"
   ]
  },
  {
   "cell_type": "code",
   "execution_count": 48,
   "metadata": {},
   "outputs": [],
   "source": [
    "bagOfWordsTest = testDocuments.map(lambda word: word.split())\n",
    "bagOfWordsTest = bagOfWordsTest.map(lambda x: stripWord(x))\n",
    "#bagOfWordsTest = bagOfWordsTest.map(lambda x: stripStopWord(x))"
   ]
  },
  {
   "cell_type": "code",
   "execution_count": 49,
   "metadata": {},
   "outputs": [],
   "source": [
    "testData = sc.broadcast(bagOfWordsTest.collect())"
   ]
  },
  {
   "cell_type": "code",
   "execution_count": 61,
   "metadata": {},
   "outputs": [],
   "source": [
    "def TestLogProbSum(x):\n",
    "    tempDict={}\n",
    "    for i in range(len(testData.value)):\n",
    "        logSum=0;\n",
    "        for word in testData.value[i]:\n",
    "            if word in x[1]:\n",
    "                logSum=logSum+x[1][word]\n",
    "            else:\n",
    "                logSum = logSum+ math.log((0.1/0.1*float(numWords.value)))\n",
    "        tempDict[i]= logSum\n",
    "    return (x[0],tempDict)"
   ]
  },
  {
   "cell_type": "code",
   "execution_count": 62,
   "metadata": {},
   "outputs": [],
   "source": [
    "logProbSum = logProbability.map(lambda x: TestLogProbSum(x))"
   ]
  },
  {
   "cell_type": "code",
   "execution_count": 63,
   "metadata": {},
   "outputs": [],
   "source": [
    "def getPrediction(x):\n",
    "    tempDict={}\n",
    "    for k,v in x[1].items():\n",
    "        tempDict[k]= v+classProb.value[x[0]]\n",
    "    return(x[0],tempDict)"
   ]
  },
  {
   "cell_type": "code",
   "execution_count": 64,
   "metadata": {},
   "outputs": [],
   "source": [
    "prediction = logProbSum.map(lambda x: getPrediction(x))"
   ]
  },
  {
   "cell_type": "code",
   "execution_count": 65,
   "metadata": {},
   "outputs": [],
   "source": [
    "def dictToTupple(x):\n",
    "    tempList=[]\n",
    "    for k, v in x[1].items():\n",
    "        tempList.append((k,(x[0],v)))\n",
    "    return tempList"
   ]
  },
  {
   "cell_type": "code",
   "execution_count": 66,
   "metadata": {},
   "outputs": [],
   "source": [
    "predictComparison = prediction.map(lambda x: dictToTupple(x)).flatMap(lambda x: x).reduceByKey(add)"
   ]
  },
  {
   "cell_type": "code",
   "execution_count": 67,
   "metadata": {},
   "outputs": [],
   "source": [
    "def getPrediction(x):\n",
    "    tempList = []\n",
    "    for i in x:\n",
    "        if type(i) == float:\n",
    "            tempList.append(i)\n",
    "    return x[tempList.index(max(tempList))*2]"
   ]
  },
  {
   "cell_type": "code",
   "execution_count": 68,
   "metadata": {},
   "outputs": [],
   "source": [
    "predictedLabel = predictComparison.map(lambda x: getPrediction(x[1]))\n",
    "predicted = predictedLabel.collect()"
   ]
  },
  {
   "cell_type": "code",
   "execution_count": 69,
   "metadata": {},
   "outputs": [],
   "source": [
    "correctLabel = testLabels.collect()"
   ]
  },
  {
   "cell_type": "code",
   "execution_count": 70,
   "metadata": {},
   "outputs": [
    {
     "name": "stdout",
     "output_type": "stream",
     "text": [
      "0.3422982885085575\n"
     ]
    }
   ],
   "source": [
    "count = 0\n",
    "for i in range(len(predicted)):\n",
    "    if predicted[i] in correctLabel[i]:\n",
    "        count = count+1\n",
    "accuracy = count/float(len(predicted))\n",
    "print(accuracy)"
   ]
  },
  {
   "cell_type": "code",
   "execution_count": 60,
   "metadata": {},
   "outputs": [],
   "source": [
    "result = open('y_test_small_prediction.txt', 'w')\n",
    "for labels in predicted:\n",
    "    result.write(\"%s\\n\" % labels)"
   ]
  }
 ],
 "metadata": {
  "kernelspec": {
   "display_name": "Python 3",
   "language": "python",
   "name": "python3"
  },
  "language_info": {
   "codemirror_mode": {
    "name": "ipython",
    "version": 3
   },
   "file_extension": ".py",
   "mimetype": "text/x-python",
   "name": "python",
   "nbconvert_exporter": "python",
   "pygments_lexer": "ipython3",
   "version": "3.5.2"
  }
 },
 "nbformat": 4,
 "nbformat_minor": 2
}
