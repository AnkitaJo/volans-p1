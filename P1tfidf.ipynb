{
 "cells": [
  {
   "cell_type": "code",
   "execution_count": 230,
   "metadata": {
    "collapsed": true
   },
   "outputs": [],
   "source": [
    "import pyspark\n",
    "from operator import add, itemgetter\n",
    "import json\n",
    "from string import punctuation\n",
    "import math\n",
    "from pyspark.conf import SparkConf\n",
    "from string import punctuation\n",
    "import matplotlib.pyplot as plt\n",
    "#from nltk.stem import LancasterStemmer"
   ]
  },
  {
   "cell_type": "markdown",
   "metadata": {},
   "source": [
    "# Calculating count of words in all docs combined"
   ]
  },
  {
   "cell_type": "code",
   "execution_count": 159,
   "metadata": {},
   "outputs": [
    {
     "ename": "ValueError",
     "evalue": "Cannot run multiple SparkContexts at once; existing SparkContext(app=DocClassification, master=local[*]) created by __init__ at <ipython-input-2-62ec7fc213ec>:1 ",
     "output_type": "error",
     "traceback": [
      "\u001b[0;31m---------------------------------------------------------------------------\u001b[0m",
      "\u001b[0;31mValueError\u001b[0m                                Traceback (most recent call last)",
      "\u001b[0;32m<ipython-input-159-62ec7fc213ec>\u001b[0m in \u001b[0;36m<module>\u001b[0;34m()\u001b[0m\n\u001b[0;32m----> 1\u001b[0;31m \u001b[0msc\u001b[0m \u001b[0;34m=\u001b[0m \u001b[0mpyspark\u001b[0m\u001b[0;34m.\u001b[0m\u001b[0mSparkContext\u001b[0m\u001b[0;34m(\u001b[0m\u001b[0;34m'local[*]'\u001b[0m\u001b[0;34m,\u001b[0m\u001b[0mappName\u001b[0m\u001b[0;34m=\u001b[0m\u001b[0;34m\"DocClassification\"\u001b[0m\u001b[0;34m)\u001b[0m\u001b[0;34m\u001b[0m\u001b[0m\n\u001b[0m",
      "\u001b[0;32m~/anaconda3/lib/python3.6/site-packages/pyspark/context.py\u001b[0m in \u001b[0;36m__init__\u001b[0;34m(self, master, appName, sparkHome, pyFiles, environment, batchSize, serializer, conf, gateway, jsc, profiler_cls)\u001b[0m\n\u001b[1;32m    113\u001b[0m         \"\"\"\n\u001b[1;32m    114\u001b[0m         \u001b[0mself\u001b[0m\u001b[0;34m.\u001b[0m\u001b[0m_callsite\u001b[0m \u001b[0;34m=\u001b[0m \u001b[0mfirst_spark_call\u001b[0m\u001b[0;34m(\u001b[0m\u001b[0;34m)\u001b[0m \u001b[0;32mor\u001b[0m \u001b[0mCallSite\u001b[0m\u001b[0;34m(\u001b[0m\u001b[0;32mNone\u001b[0m\u001b[0;34m,\u001b[0m \u001b[0;32mNone\u001b[0m\u001b[0;34m,\u001b[0m \u001b[0;32mNone\u001b[0m\u001b[0;34m)\u001b[0m\u001b[0;34m\u001b[0m\u001b[0m\n\u001b[0;32m--> 115\u001b[0;31m         \u001b[0mSparkContext\u001b[0m\u001b[0;34m.\u001b[0m\u001b[0m_ensure_initialized\u001b[0m\u001b[0;34m(\u001b[0m\u001b[0mself\u001b[0m\u001b[0;34m,\u001b[0m \u001b[0mgateway\u001b[0m\u001b[0;34m=\u001b[0m\u001b[0mgateway\u001b[0m\u001b[0;34m,\u001b[0m \u001b[0mconf\u001b[0m\u001b[0;34m=\u001b[0m\u001b[0mconf\u001b[0m\u001b[0;34m)\u001b[0m\u001b[0;34m\u001b[0m\u001b[0m\n\u001b[0m\u001b[1;32m    116\u001b[0m         \u001b[0;32mtry\u001b[0m\u001b[0;34m:\u001b[0m\u001b[0;34m\u001b[0m\u001b[0m\n\u001b[1;32m    117\u001b[0m             self._do_init(master, appName, sparkHome, pyFiles, environment, batchSize, serializer,\n",
      "\u001b[0;32m~/anaconda3/lib/python3.6/site-packages/pyspark/context.py\u001b[0m in \u001b[0;36m_ensure_initialized\u001b[0;34m(cls, instance, gateway, conf)\u001b[0m\n\u001b[1;32m    297\u001b[0m                         \u001b[0;34m\" created by %s at %s:%s \"\u001b[0m\u001b[0;34m\u001b[0m\u001b[0m\n\u001b[1;32m    298\u001b[0m                         % (currentAppName, currentMaster,\n\u001b[0;32m--> 299\u001b[0;31m                             callsite.function, callsite.file, callsite.linenum))\n\u001b[0m\u001b[1;32m    300\u001b[0m                 \u001b[0;32melse\u001b[0m\u001b[0;34m:\u001b[0m\u001b[0;34m\u001b[0m\u001b[0m\n\u001b[1;32m    301\u001b[0m                     \u001b[0mSparkContext\u001b[0m\u001b[0;34m.\u001b[0m\u001b[0m_active_spark_context\u001b[0m \u001b[0;34m=\u001b[0m \u001b[0minstance\u001b[0m\u001b[0;34m\u001b[0m\u001b[0m\n",
      "\u001b[0;31mValueError\u001b[0m: Cannot run multiple SparkContexts at once; existing SparkContext(app=DocClassification, master=local[*]) created by __init__ at <ipython-input-2-62ec7fc213ec>:1 "
     ]
    }
   ],
   "source": [
    "sc = pyspark.SparkContext('local[*]',appName=\"DocClassification\")"
   ]
  },
  {
   "cell_type": "code",
   "execution_count": 160,
   "metadata": {
    "collapsed": true
   },
   "outputs": [],
   "source": [
    "documents = sc.textFile(\"/Volumes/OSX-DataDrive/data-distributed/dataset/training_set/X_train_vsmall.txt\")"
   ]
  },
  {
   "cell_type": "code",
   "execution_count": 161,
   "metadata": {
    "collapsed": true
   },
   "outputs": [],
   "source": [
    "labels = sc.textFile(\"/Volumes/OSX-DataDrive/data-distributed/dataset/label_set/y_train_vsmall.txt\")"
   ]
  },
  {
   "cell_type": "code",
   "execution_count": 162,
   "metadata": {
    "collapsed": true
   },
   "outputs": [],
   "source": [
    "splt = documents.flatMap(lambda word: word.split())\n",
    "splt = splt.map(lambda word: word.lower())\n",
    "\n",
    "#Removing Punctuation\n",
    "splt = splt.map(lambda word: word.replace(\"&quot;\",\"\"))\n",
    "splt = splt.map(lambda word: word.replace(\"&amp;\",\"\"))\n",
    "cleanWords = splt.map(lambda word: word.strip(punctuation))\n",
    "cleanWords = cleanWords.filter(lambda word:len(word)>2)\n",
    "\n",
    "#Removing StopWord\n",
    "stopWordFile = sc.textFile(\"/Volumes/OSX-DataDrive/data-distributed/stopwords.txts\")\n",
    "stopWord = sc.broadcast(stopWordFile.collect())\n",
    "lessWords = cleanWords.filter(lambda x: x not in stopWord.value)"
   ]
  },
  {
   "cell_type": "code",
   "execution_count": 163,
   "metadata": {
    "collapsed": true
   },
   "outputs": [],
   "source": [
    "word = cleanWords.map(lambda word : (word,1))"
   ]
  },
  {
   "cell_type": "code",
   "execution_count": 164,
   "metadata": {
    "collapsed": true
   },
   "outputs": [],
   "source": [
    "CountinAllDocs = word.reduceByKey(add)"
   ]
  },
  {
   "cell_type": "code",
   "execution_count": 165,
   "metadata": {
    "collapsed": true
   },
   "outputs": [],
   "source": [
    "CountinAllDocs = CountinAllDocs.sortBy(lambda x: x[1],False)"
   ]
  },
  {
   "cell_type": "code",
   "execution_count": 166,
   "metadata": {
    "collapsed": true
   },
   "outputs": [],
   "source": [
    "numWords = sc.broadcast(CountinAllDocs.count())\n",
    "numDocs = sc.broadcast(documents.count())\n",
    "wordList = sc.broadcast(CountinAllDocs.keys().collect())"
   ]
  },
  {
   "cell_type": "raw",
   "metadata": {},
   "source": [
    "X= []\n",
    "Y= []\n",
    "for k,v in CountinAllDocs.collectAsMap().items():\n",
    "    X.append(k)\n",
    "    Y.append(v)"
   ]
  },
  {
   "cell_type": "raw",
   "metadata": {},
   "source": [
    "plt.bar(X,Y)\n",
    "plt.xlabel(\"Count\")\n",
    "plt.ylabel(\"Word\")\n",
    "plt.show()."
   ]
  },
  {
   "cell_type": "markdown",
   "metadata": {},
   "source": [
    "# Calculating term frequency in each doc"
   ]
  },
  {
   "cell_type": "code",
   "execution_count": 167,
   "metadata": {
    "collapsed": true
   },
   "outputs": [],
   "source": [
    "def stripWord(x):\n",
    "    tempList =[]\n",
    "    for word in x:\n",
    "        word = word.lower()\n",
    "        word = word.replace(\"&quot\",\"\")\n",
    "        word = word.replace(\"&amp\",\"\")\n",
    "        word = word.strip(punctuation)\n",
    "        if len(word)>2:\n",
    "            tempList.append(word)\n",
    "    return tempList"
   ]
  },
  {
   "cell_type": "code",
   "execution_count": 168,
   "metadata": {
    "collapsed": true
   },
   "outputs": [],
   "source": [
    "def stripStopWord(x):\n",
    "    tempList =[]\n",
    "    for word in x:\n",
    "        if word not in stopWord.value:\n",
    "            tempList.append(word)\n",
    "    return tempList"
   ]
  },
  {
   "cell_type": "code",
   "execution_count": 169,
   "metadata": {
    "collapsed": true
   },
   "outputs": [],
   "source": [
    "def countWord(x):\n",
    "    dictionary={}\n",
    "    for word in x:\n",
    "        if word not in dictionary:\n",
    "            dictionary[word] = 1\n",
    "        else:\n",
    "            dictionary[word]+=1\n",
    "    return dictionary"
   ]
  },
  {
   "cell_type": "code",
   "execution_count": 203,
   "metadata": {
    "collapsed": true,
    "scrolled": false
   },
   "outputs": [],
   "source": [
    "bagOfWords = documents.map(lambda word: word.split())\n",
    "bagOfWords = bagOfWords.map(lambda x: stripWord(x))\n",
    "#bagOfWords = bagOfWords.map(lambda x: stripStopWord(x))\n",
    "tf = bagOfWords.map(lambda x: countWord(x))"
   ]
  },
  {
   "cell_type": "markdown",
   "metadata": {},
   "source": [
    "# Calculating idf"
   ]
  },
  {
   "cell_type": "code",
   "execution_count": 204,
   "metadata": {
    "collapsed": true
   },
   "outputs": [],
   "source": [
    "def uniques(x):\n",
    "    tempList=[]\n",
    "    for word in x:\n",
    "        if word not in tempList:\n",
    "            tempList.append(word);\n",
    "    return tempList"
   ]
  },
  {
   "cell_type": "code",
   "execution_count": 205,
   "metadata": {
    "collapsed": true
   },
   "outputs": [],
   "source": [
    "uniqueList = tf.map(lambda x: uniques(x))"
   ]
  },
  {
   "cell_type": "code",
   "execution_count": 206,
   "metadata": {
    "collapsed": true
   },
   "outputs": [],
   "source": [
    "def initializeMap(x):\n",
    "    tempList = []\n",
    "    for word in x:\n",
    "        tempList.append((word,1))\n",
    "    return tempList"
   ]
  },
  {
   "cell_type": "code",
   "execution_count": 207,
   "metadata": {
    "collapsed": true
   },
   "outputs": [],
   "source": [
    "occurences = uniqueList.map(lambda x: initializeMap(x)).flatMap(lambda x: x).reduceByKey(add)"
   ]
  },
  {
   "cell_type": "code",
   "execution_count": 208,
   "metadata": {
    "collapsed": true
   },
   "outputs": [],
   "source": [
    "idf = occurences.map(lambda x: (x[0],math.log(numDocs.value/float(x[1]))))"
   ]
  },
  {
   "cell_type": "code",
   "execution_count": 209,
   "metadata": {
    "collapsed": true
   },
   "outputs": [],
   "source": [
    "idf2 = sc.broadcast(idf.collectAsMap())"
   ]
  },
  {
   "cell_type": "markdown",
   "metadata": {},
   "source": [
    "# Calculating Tf-idf"
   ]
  },
  {
   "cell_type": "code",
   "execution_count": 210,
   "metadata": {
    "collapsed": true
   },
   "outputs": [],
   "source": [
    "def getTfidf(x):\n",
    "    tempDict={}\n",
    "    idfDict=idf2.value\n",
    "    for k,v in x.items():\n",
    "        tempDict[k] = v*idfDict[k]\n",
    "    return tempDict"
   ]
  },
  {
   "cell_type": "code",
   "execution_count": 211,
   "metadata": {
    "collapsed": true
   },
   "outputs": [],
   "source": [
    "tfidf = tf.map(lambda x: getTfidf(x) )"
   ]
  },
  {
   "cell_type": "code",
   "execution_count": 212,
   "metadata": {
    "collapsed": true,
    "scrolled": false
   },
   "outputs": [],
   "source": [
    "tfidfSorted = tfidf.map(lambda x: sorted(x.items(), key=itemgetter(1), reverse = True))"
   ]
  },
  {
   "cell_type": "markdown",
   "metadata": {},
   "source": [
    "# Implementing Naive Bayes"
   ]
  },
  {
   "cell_type": "markdown",
   "metadata": {},
   "source": [
    "## Calculating word probability"
   ]
  },
  {
   "cell_type": "code",
   "execution_count": 213,
   "metadata": {
    "collapsed": true
   },
   "outputs": [],
   "source": [
    "spltLabels = labels.map(lambda word: word.split(\",\"))"
   ]
  },
  {
   "cell_type": "code",
   "execution_count": 214,
   "metadata": {
    "collapsed": true
   },
   "outputs": [],
   "source": [
    "def removeUnnecessary(label):\n",
    "    tempList=[]\n",
    "    for word in label:\n",
    "        if 'CAT' in word:\n",
    "            tempList.append(word)\n",
    "    return tempList"
   ]
  },
  {
   "cell_type": "code",
   "execution_count": 215,
   "metadata": {
    "collapsed": true
   },
   "outputs": [],
   "source": [
    "requiredLabels = spltLabels.map(lambda label: removeUnnecessary(label))"
   ]
  },
  {
   "cell_type": "code",
   "execution_count": 216,
   "metadata": {
    "collapsed": true
   },
   "outputs": [],
   "source": [
    "numberOfDocs = sc.broadcast(requiredLabels.flatMap(lambda x: x).count())"
   ]
  },
  {
   "cell_type": "code",
   "execution_count": 217,
   "metadata": {
    "collapsed": true
   },
   "outputs": [],
   "source": [
    "labelsToUse = sc.broadcast(requiredLabels.collect())"
   ]
  },
  {
   "cell_type": "code",
   "execution_count": 218,
   "metadata": {
    "collapsed": true
   },
   "outputs": [],
   "source": [
    "def dictToList(x):\n",
    "    tempList=[]\n",
    "    for k, v in x.items():\n",
    "        tempList.append((k,v))\n",
    "    return tempList"
   ]
  },
  {
   "cell_type": "code",
   "execution_count": 219,
   "metadata": {
    "collapsed": true
   },
   "outputs": [],
   "source": [
    "def getProbDoc(x,v):\n",
    "    tempDict={}\n",
    "    for label in labelsToUse.value[v]:\n",
    "        tempDict[label] = x\n",
    "    return tempDict"
   ]
  },
  {
   "cell_type": "code",
   "execution_count": 220,
   "metadata": {
    "collapsed": true
   },
   "outputs": [],
   "source": [
    "ProbDocIndex = tfidfSorted.zipWithIndex()"
   ]
  },
  {
   "cell_type": "code",
   "execution_count": 221,
   "metadata": {
    "collapsed": true
   },
   "outputs": [],
   "source": [
    "def totalTfidf(x):\n",
    "    total =0\n",
    "    for k,v in x.items():\n",
    "        total = total+v\n",
    "    return total"
   ]
  },
  {
   "cell_type": "code",
   "execution_count": 222,
   "metadata": {
    "collapsed": true
   },
   "outputs": [],
   "source": [
    "ProbDoc = ProbDocIndex.map(lambda x: getProbDoc(x[0],x[1]))"
   ]
  },
  {
   "cell_type": "code",
   "execution_count": 301,
   "metadata": {},
   "outputs": [
    {
     "data": {
      "text/plain": [
       "[('weather', 21.097538525880534),\n",
       " ('equipment', 14.105442098464646),\n",
       " ('snow', 12.658523115528322),\n",
       " ('airports', 10.579081573848484),\n",
       " ('each', 10.440279170968026),\n",
       " ('authority', 9.36268624952399),\n",
       " ('dedicated', 8.439015410352214),\n",
       " ('port', 8.439015410352214),\n",
       " ('winter', 8.439015410352214),\n",
       " ('cargo', 7.052721049232323),\n",
       " ('newark', 7.052721049232323),\n",
       " ('airport', 7.052721049232323),\n",
       " ('desk', 6.241790833015994),\n",
       " ('reports', 6.241790833015994),\n",
       " ('key', 5.666426688112432),\n",
       " ('operations', 5.666426688112432),\n",
       " ('air', 5.666426688112432),\n",
       " ('and', 5.227239895715332),\n",
       " ('171', 5.220139585484013),\n",
       " ('542', 5.220139585484013),\n",
       " ('react', 4.219507705176107),\n",
       " ('harsh', 4.219507705176107),\n",
       " ('prevent', 4.219507705176107),\n",
       " ('disruption', 4.219507705176107),\n",
       " ('travellers', 4.219507705176107),\n",
       " (\"york's\", 4.219507705176107),\n",
       " ('kennedy', 4.219507705176107),\n",
       " ('laguardia', 4.219507705176107),\n",
       " ('carefully', 4.219507705176107),\n",
       " ('patterns', 4.219507705176107),\n",
       " ('supplements', 4.219507705176107),\n",
       " ('facility-specific', 4.219507705176107),\n",
       " ('sit', 4.219507705176107),\n",
       " ('wait', 4.219507705176107),\n",
       " ('feeley', 4.219507705176107),\n",
       " ('anticipate', 4.219507705176107),\n",
       " (\"what's\", 4.219507705176107),\n",
       " (\"day's\", 4.219507705176107),\n",
       " ('allows', 4.219507705176107),\n",
       " ('deployment', 4.219507705176107),\n",
       " ('personnel', 4.219507705176107),\n",
       " ('analyse', 4.219507705176107),\n",
       " ('deploy', 4.219507705176107),\n",
       " ('accordingly', 4.219507705176107),\n",
       " ('inground', 4.219507705176107),\n",
       " ('sensors', 4.219507705176107),\n",
       " ('transmitting', 4.219507705176107),\n",
       " ('windspeed', 4.219507705176107),\n",
       " ('direction', 4.219507705176107),\n",
       " ('dewpoint', 4.219507705176107),\n",
       " ('humidity', 4.219507705176107),\n",
       " ('5,100', 4.219507705176107),\n",
       " ('tons', 4.219507705176107),\n",
       " ('salt', 4.219507705176107),\n",
       " ('sand', 4.219507705176107),\n",
       " ('de-icing', 4.219507705176107),\n",
       " ('pieces', 4.219507705176107),\n",
       " ('snow-fighting', 4.219507705176107),\n",
       " ('massive', 4.219507705176107),\n",
       " ('snow-melters', 4.219507705176107),\n",
       " ('blowers', 4.219507705176107),\n",
       " ('standby', 4.219507705176107),\n",
       " ('counter', 4.219507705176107),\n",
       " ('blast', 4.219507705176107),\n",
       " ('jfk', 4.219507705176107),\n",
       " ('laguadria', 4.219507705176107),\n",
       " ('tel+44', 4.219507705176107),\n",
       " ('7706', 4.219507705176107),\n",
       " ('fax+44', 4.219507705176107),\n",
       " ('5017', 4.219507705176107),\n",
       " ('jersey', 3.5263605246161616),\n",
       " ('monitor', 3.5263605246161616),\n",
       " ('tracks', 3.5263605246161616),\n",
       " ('round', 3.5263605246161616),\n",
       " ('forecasts', 3.5263605246161616),\n",
       " ('private', 3.5263605246161616),\n",
       " ('updated', 3.5263605246161616),\n",
       " ('hit', 3.5263605246161616),\n",
       " ('david', 3.5263605246161616),\n",
       " ('technology', 3.5263605246161616),\n",
       " ('facility', 3.5263605246161616),\n",
       " ('maintenance', 3.5263605246161616),\n",
       " ('data', 3.5263605246161616),\n",
       " ('temperatures', 3.5263605246161616),\n",
       " ('special', 3.5263605246161616),\n",
       " ('250', 3.5263605246161616),\n",
       " ('new', 3.3853957554533727),\n",
       " ('operates', 3.120895416507997),\n",
       " ('service', 3.120895416507997),\n",
       " ('officer', 3.120895416507997),\n",
       " ('latest', 3.120895416507997),\n",
       " ('advance', 3.120895416507997),\n",
       " ('almost', 3.120895416507997),\n",
       " ('this', 2.8938379658726507),\n",
       " ('year', 2.8938379658726507),\n",
       " ('conditions', 2.833213344056216),\n",
       " ('moving', 2.833213344056216),\n",
       " ('john', 2.833213344056216),\n",
       " ('coming', 2.833213344056216),\n",
       " ('ground', 2.833213344056216),\n",
       " ('set', 2.6100697927420065),\n",
       " ('few', 2.6100697927420065),\n",
       " ('chief', 2.6100697927420065),\n",
       " ('staff', 2.6100697927420065),\n",
       " ('has', 2.556635625568898),\n",
       " ('help', 2.4277482359480516),\n",
       " (\"don't\", 2.4277482359480516),\n",
       " ('use', 2.4277482359480516),\n",
       " ('employees', 2.4277482359480516),\n",
       " ('such', 2.4277482359480516),\n",
       " ('york', 2.2735975561207935),\n",
       " ('times', 2.2735975561207935),\n",
       " ('day', 2.2735975561207935),\n",
       " ('through', 2.1400661634962708),\n",
       " ('national', 2.0222831278398874),\n",
       " ('plan', 2.0222831278398874),\n",
       " ('including', 2.0222831278398874),\n",
       " ('which', 1.9228223343092494),\n",
       " ('companies', 1.916922612182061),\n",
       " ('all', 1.821612432377736),\n",
       " ('been', 1.7346010553881064),\n",
       " ('any', 1.580450375560848),\n",
       " ('than', 1.5114575040738967),\n",
       " ('more', 1.2750687260096663),\n",
       " ('are', 1.128465251817791),\n",
       " ('newsroom', 0.8873031950009027),\n",
       " ('for', 0.8256904308115738),\n",
       " ('the', 0.7509788577240359),\n",
       " ('from', 0.7230001437096264),\n",
       " ('that', 0.6359887667199967),\n",
       " ('with', 0.6085897925318823),\n",
       " ('said', 0.26826398659467937)]"
      ]
     },
     "execution_count": 301,
     "metadata": {},
     "output_type": "execute_result"
    }
   ],
   "source": [
    "ProbDocIndex.collect()[0][0]"
   ]
  },
  {
   "cell_type": "code",
   "execution_count": 302,
   "metadata": {
    "collapsed": true,
    "scrolled": false
   },
   "outputs": [],
   "source": [
    "ProbDocList= ProbDoc.map(lambda x : dictToList(x))"
   ]
  },
  {
   "cell_type": "code",
   "execution_count": 303,
   "metadata": {
    "collapsed": true
   },
   "outputs": [],
   "source": [
    "def tfidfListToDict(x):\n",
    "    tempDict={}\n",
    "    for word in x:\n",
    "        tempDict[word[0]] = word[1]\n",
    "    return tempDict"
   ]
  },
  {
   "cell_type": "code",
   "execution_count": 359,
   "metadata": {},
   "outputs": [],
   "source": [
    "\n",
    "\n",
    "def plot_histogram(dataset,top=20):\n",
    "    for i in range(0,len(dataset)):\n",
    "        class_entry = dataset[i][1]\n",
    "        print(dataset[i][0])\n",
    "        float_values = [(i[0],float(i[1])) for i in class_entry]\n",
    "        filter_values = list()\n",
    "        plt.cla();\n",
    "        count = 0;\n",
    "        for i in float_values:\n",
    "            if int(i[1]) <= 3:\n",
    "                filter_values.append(i)\n",
    "        filter_values.sort()\n",
    "        filter_values = filter_values[:top]\n",
    "        x_values = [i[0] for i in filter_values]\n",
    "        y_values = [i[1] for i in filter_values]\n",
    "        plt.plot(x_values,y_values)\n",
    "        plt.show()\n",
    "\n",
    "    "
   ]
  },
  {
   "cell_type": "code",
   "execution_count": 306,
   "metadata": {
    "collapsed": true
   },
   "outputs": [],
   "source": [
    "ProbDocList = ProbDocList.flatMap(lambda x: x).reduceByKey(add)\n",
    "ProbDocDict= ProbDocList.map(lambda x: (x[0],tfidfListToDict(x[1])))"
   ]
  },
  {
   "cell_type": "code",
   "execution_count": 307,
   "metadata": {},
   "outputs": [],
   "source": [
    "ProbDocDictSorted = ProbDocDict.map(lambda x: (x[0],sorted(x[1].items(), key=itemgetter(1), reverse = False)))\n",
    "result = ProbDocDictSorted.collect()"
   ]
  },
  {
   "cell_type": "code",
   "execution_count": 360,
   "metadata": {
    "scrolled": true
   },
   "outputs": [
    {
     "name": "stdout",
     "output_type": "stream",
     "text": [
      "CCAT\n"
     ]
    },
    {
     "data": {
      "image/png": "[encoded data removed]",
      "text/plain": [
       "<matplotlib.figure.Figure at 0x11b238dd8>"
      ]
     },
     "metadata": {},
     "output_type": "display_data"
    },
    {
     "name": "stdout",
     "output_type": "stream",
     "text": [
      "GCAT\n"
     ]
    },
    {
     "data": {
      "image/png": "[encoded data removed]",
      "text/plain": [
       "<matplotlib.figure.Figure at 0x11bc0a208>"
      ]
     },
     "metadata": {},
     "output_type": "display_data"
    },
    {
     "name": "stdout",
     "output_type": "stream",
     "text": [
      "MCAT\n"
     ]
    },
    {
     "data": {
      "image/png": "[encoded data removed]",
      "text/plain": [
       "<matplotlib.figure.Figure at 0x11af747b8>"
      ]
     },
     "metadata": {},
     "output_type": "display_data"
    },
    {
     "name": "stdout",
     "output_type": "stream",
     "text": [
      "ECAT\n"
     ]
    },
    {
     "data": {
      "image/png": "[encoded data removed]",
      "text/plain": [
       "<matplotlib.figure.Figure at 0x11bb2f2b0>"
      ]
     },
     "metadata": {},
     "output_type": "display_data"
    }
   ],
   "source": [
    "plot_histogram(result)"
   ]
  },
  {
   "cell_type": "markdown",
   "metadata": {},
   "source": [
    "# Above Code for class wise tfidf and stopwords"
   ]
  },
  {
   "cell_type": "code",
   "execution_count": 300,
   "metadata": {
    "collapsed": true
   },
   "outputs": [],
   "source": [
    "def getOurStopwords(x):\n",
    "    tempList=[]\n",
    "    for word in x:\n",
    "        if(word[1]<3.0):\n",
    "            tempList.append(word[0])\n",
    "    return tempList"
   ]
  },
  {
   "cell_type": "code",
   "execution_count": 112,
   "metadata": {
    "collapsed": true
   },
   "outputs": [],
   "source": [
    "ourStopwords = ProbDocDictSorted.map(lambda x: getOurStopwords(x[1]))"
   ]
  },
  {
   "cell_type": "code",
   "execution_count": 113,
   "metadata": {
    "collapsed": true,
    "scrolled": true
   },
   "outputs": [],
   "source": [
    "toDownload = ourStopwords.flatMap(lambda x: x).distinct()"
   ]
  },
  {
   "cell_type": "code",
   "execution_count": 114,
   "metadata": {
    "collapsed": true
   },
   "outputs": [],
   "source": [
    "rd = toDownload.collect()"
   ]
  },
  {
   "cell_type": "code",
   "execution_count": 117,
   "metadata": {
    "collapsed": true
   },
   "outputs": [],
   "source": [
    "result = open('ourStopwords.txt', 'w')\n",
    "for td in rd:\n",
    "    result.write(\"%s\\n\" % td)"
   ]
  },
  {
   "cell_type": "code",
   "execution_count": 37,
   "metadata": {
    "collapsed": true
   },
   "outputs": [],
   "source": [
    "labelWC = ProbDocDict.map(lambda x: (x[0],totalTfidf(x[1])))\n",
    "labelWordCount =sc.broadcast(labelWC.collectAsMap())"
   ]
  },
  {
   "cell_type": "code",
   "execution_count": 38,
   "metadata": {
    "collapsed": true
   },
   "outputs": [],
   "source": [
    "def addAllwords(x):\n",
    "    tempDict=x[1]\n",
    "    for word in wordList.value:\n",
    "        if word not in x[1]:\n",
    "            tempDict[word] = 0\n",
    "    return (x[0],tempDict)"
   ]
  },
  {
   "cell_type": "code",
   "execution_count": 39,
   "metadata": {
    "collapsed": true,
    "scrolled": true
   },
   "outputs": [],
   "source": [
    "ProbDocDictAll = ProbDocDict.map(lambda x: addAllwords(x))"
   ]
  },
  {
   "cell_type": "code",
   "execution_count": 40,
   "metadata": {
    "collapsed": true
   },
   "outputs": [],
   "source": [
    "def getWordProbability(x):\n",
    "    tempDict={}\n",
    "    for k,v in x[1].items():\n",
    "        tempDict[k]= (v+0.1)/float(0.1*numWords.value + labelWordCount.value[x[0]])\n",
    "    return (x[0],tempDict)"
   ]
  },
  {
   "cell_type": "code",
   "execution_count": 41,
   "metadata": {
    "collapsed": true
   },
   "outputs": [],
   "source": [
    "wordProbability = ProbDocDictAll.map(lambda x: getWordProbability(x))"
   ]
  },
  {
   "cell_type": "code",
   "execution_count": 42,
   "metadata": {
    "collapsed": true
   },
   "outputs": [],
   "source": [
    "def getLogProb(x):\n",
    "    tempDict= {}\n",
    "    for k,v in x[1].items():\n",
    "        tempDict[k] = math.log(v)\n",
    "    return (x[0],tempDict)"
   ]
  },
  {
   "cell_type": "code",
   "execution_count": 43,
   "metadata": {
    "collapsed": true
   },
   "outputs": [],
   "source": [
    "logProbability = wordProbability.map(lambda x: getLogProb(x))"
   ]
  },
  {
   "cell_type": "markdown",
   "metadata": {},
   "source": [
    "## Calculating Class Probability"
   ]
  },
  {
   "cell_type": "code",
   "execution_count": 44,
   "metadata": {
    "collapsed": true
   },
   "outputs": [],
   "source": [
    "classList = requiredLabels.flatMap(lambda x: x)\n",
    "classCount = classList.map(lambda x: (x,1)).reduceByKey(add)"
   ]
  },
  {
   "cell_type": "code",
   "execution_count": 45,
   "metadata": {
    "collapsed": true
   },
   "outputs": [],
   "source": [
    "classProbability = classCount.map(lambda x: (x[0],math.log(x[1]/float(numberOfDocs.value))))\n",
    "classProb = sc.broadcast(classProbability.collectAsMap())"
   ]
  },
  {
   "cell_type": "markdown",
   "metadata": {},
   "source": [
    "## Testing the probabilities"
   ]
  },
  {
   "cell_type": "code",
   "execution_count": 46,
   "metadata": {},
   "outputs": [
    {
     "name": "stdout",
     "output_type": "stream",
     "text": [
      "1.0000044555281526\n"
     ]
    }
   ],
   "source": [
    "sums=0\n",
    "for k,v in wordProbability.collect()[0][1].items():\n",
    "    sums = sums+v\n",
    "print(sums)"
   ]
  },
  {
   "cell_type": "markdown",
   "metadata": {},
   "source": [
    "#  Prediction"
   ]
  },
  {
   "cell_type": "code",
   "execution_count": 47,
   "metadata": {
    "collapsed": true
   },
   "outputs": [],
   "source": [
    "testDocuments = sc.textFile(\"/Volumes/OSX-DataDrive/data-distributed/dataset/training_set/X_test_vsmall.txt\")\n",
    "testLabels = sc.textFile(\"/Volumes/OSX-DataDrive/data-distributed/dataset/label_set/y_test_vsmall.txt\")"
   ]
  },
  {
   "cell_type": "code",
   "execution_count": 48,
   "metadata": {
    "collapsed": true
   },
   "outputs": [],
   "source": [
    "bagOfWordsTest = testDocuments.map(lambda word: word.split())\n",
    "bagOfWordsTest = bagOfWordsTest.map(lambda x: stripWord(x))\n",
    "#bagOfWordsTest = bagOfWordsTest.map(lambda x: stripStopWord(x))"
   ]
  },
  {
   "cell_type": "code",
   "execution_count": 49,
   "metadata": {
    "collapsed": true
   },
   "outputs": [],
   "source": [
    "testData = sc.broadcast(bagOfWordsTest.collect())"
   ]
  },
  {
   "cell_type": "code",
   "execution_count": 61,
   "metadata": {
    "collapsed": true
   },
   "outputs": [],
   "source": [
    "def TestLogProbSum(x):\n",
    "    tempDict={}\n",
    "    for i in range(len(testData.value)):\n",
    "        logSum=0;\n",
    "        for word in testData.value[i]:\n",
    "            if word in x[1]:\n",
    "                logSum=logSum+x[1][word]\n",
    "            else:\n",
    "                logSum = logSum+ math.log((0.1/0.1*float(numWords.value)))\n",
    "        tempDict[i]= logSum\n",
    "    return (x[0],tempDict)"
   ]
  },
  {
   "cell_type": "code",
   "execution_count": 62,
   "metadata": {
    "collapsed": true
   },
   "outputs": [],
   "source": [
    "logProbSum = logProbability.map(lambda x: TestLogProbSum(x))"
   ]
  },
  {
   "cell_type": "code",
   "execution_count": 63,
   "metadata": {
    "collapsed": true
   },
   "outputs": [],
   "source": [
    "def getPrediction(x):\n",
    "    tempDict={}\n",
    "    for k,v in x[1].items():\n",
    "        tempDict[k]= v+classProb.value[x[0]]\n",
    "    return(x[0],tempDict)"
   ]
  },
  {
   "cell_type": "code",
   "execution_count": 64,
   "metadata": {
    "collapsed": true
   },
   "outputs": [],
   "source": [
    "prediction = logProbSum.map(lambda x: getPrediction(x))"
   ]
  },
  {
   "cell_type": "code",
   "execution_count": 65,
   "metadata": {
    "collapsed": true
   },
   "outputs": [],
   "source": [
    "def dictToTupple(x):\n",
    "    tempList=[]\n",
    "    for k, v in x[1].items():\n",
    "        tempList.append((k,(x[0],v)))\n",
    "    return tempList"
   ]
  },
  {
   "cell_type": "code",
   "execution_count": 66,
   "metadata": {
    "collapsed": true
   },
   "outputs": [],
   "source": [
    "predictComparison = prediction.map(lambda x: dictToTupple(x)).flatMap(lambda x: x).reduceByKey(add)"
   ]
  },
  {
   "cell_type": "code",
   "execution_count": 67,
   "metadata": {
    "collapsed": true
   },
   "outputs": [],
   "source": [
    "def getPrediction(x):\n",
    "    tempList = []\n",
    "    for i in x:\n",
    "        if type(i) == float:\n",
    "            tempList.append(i)\n",
    "    return x[tempList.index(max(tempList))*2]"
   ]
  },
  {
   "cell_type": "code",
   "execution_count": 68,
   "metadata": {
    "collapsed": true
   },
   "outputs": [],
   "source": [
    "predictedLabel = predictComparison.map(lambda x: getPrediction(x[1]))\n",
    "predicted = predictedLabel.collect()"
   ]
  },
  {
   "cell_type": "code",
   "execution_count": 69,
   "metadata": {
    "collapsed": true
   },
   "outputs": [],
   "source": [
    "correctLabel = testLabels.collect()"
   ]
  },
  {
   "cell_type": "code",
   "execution_count": 70,
   "metadata": {},
   "outputs": [
    {
     "name": "stdout",
     "output_type": "stream",
     "text": [
      "0.3422982885085575\n"
     ]
    }
   ],
   "source": [
    "count = 0\n",
    "for i in range(len(predicted)):\n",
    "    if predicted[i] in correctLabel[i]:\n",
    "        count = count+1\n",
    "accuracy = count/float(len(predicted))\n",
    "print(accuracy)"
   ]
  },
  {
   "cell_type": "code",
   "execution_count": 60,
   "metadata": {
    "collapsed": true
   },
   "outputs": [],
   "source": [
    "result = open('y_test_small_prediction.txt', 'w')\n",
    "for labels in predicted:\n",
    "    result.write(\"%s\\n\" % labels)"
   ]
  }
 ],
 "metadata": {
  "kernelspec": {
   "display_name": "Python 3",
   "language": "python",
   "name": "python3"
  },
  "language_info": {
   "codemirror_mode": {
    "name": "ipython",
    "version": 3
   },
   "file_extension": ".py",
   "mimetype": "text/x-python",
   "name": "python",
   "nbconvert_exporter": "python",
   "pygments_lexer": "ipython3",
   "version": "3.6.3"
  }
 },
 "nbformat": 4,
 "nbformat_minor": 2
}
